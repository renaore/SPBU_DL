{
  "cells": [
    {
      "cell_type": "markdown",
      "metadata": {
        "id": "AHeybarBrceJ"
      },
      "source": [
        "## T5 трансформер для перевода с немецкого на английский"
      ]
    },
    {
      "cell_type": "markdown",
      "metadata": {
        "id": "VLNQnJLOrceN"
      },
      "source": [
        "Сегодня вы поработаете над настоящей задачей NLP и попробуете обучить трансформер переводить короткие предложения с английского на немецкий.\n",
        "\n",
        "Токенизацию и блоки трансформера писать не придётся — будем пользоваться библиотекой `transformers`.\n",
        "\n",
        "Наши задачи:\n",
        "- Познакомиться с наиболее популярным методом токенизации текстов — byte pair encoding\n",
        "- Научиться пользоваться токенизатором из `transformers`\n",
        "- Подготовить даннные\n",
        "- Обучить готовую архитектуру T5-small под нашу задачу\n",
        "- Исследовать разные стратегии декодирования с помощью обученной модели"
      ]
    },
    {
      "cell_type": "code",
      "execution_count": 1,
      "metadata": {
        "id": "f6va8da0rceP"
      },
      "outputs": [],
      "source": [
        "%%capture\n",
        "!pip install lightning\n",
        "!pip install transformers\n",
        "!pip install datasets\n",
        "import math\n",
        "from pathlib import Path\n",
        "from typing import cast\n",
        "\n",
        "import lightning as L\n",
        "import torch\n",
        "import torch.nn.functional as F\n",
        "from torch import Tensor, nn\n",
        "from torch.utils.data import DataLoader, Dataset\n",
        "from transformers import T5ForConditionalGeneration, T5Tokenizer\n",
        "\n",
        "from datasets import load_dataset, load_from_disk"
      ]
    },
    {
      "cell_type": "code",
      "execution_count": 2,
      "metadata": {
        "colab": {
          "base_uri": "https://localhost:8080/"
        },
        "id": "L77iAZmcrceQ",
        "outputId": "494405e0-1b46-48a2-e795-e0bdac3b34c6"
      },
      "outputs": [
        {
          "output_type": "execute_result",
          "data": {
            "text/plain": [
              "<torch._C.Generator at 0x7df8d5796230>"
            ]
          },
          "metadata": {},
          "execution_count": 2
        }
      ],
      "source": [
        "torch.manual_seed(42)"
      ]
    },
    {
      "cell_type": "markdown",
      "metadata": {
        "id": "ee0pEw5IrceR"
      },
      "source": [
        "#### Готовим данные"
      ]
    },
    {
      "cell_type": "code",
      "execution_count": 3,
      "metadata": {
        "colab": {
          "base_uri": "https://localhost:8080/"
        },
        "id": "n2AAbX8erceR",
        "outputId": "5b70568a-88fc-4796-af65-56fc650ac6d7"
      },
      "outputs": [
        {
          "output_type": "stream",
          "name": "stderr",
          "text": [
            "/usr/local/lib/python3.10/dist-packages/huggingface_hub/utils/_auth.py:94: UserWarning: \n",
            "The secret `HF_TOKEN` does not exist in your Colab secrets.\n",
            "To authenticate with the Hugging Face Hub, create a token in your settings tab (https://huggingface.co/settings/tokens), set it as secret in your Google Colab and restart your session.\n",
            "You will be able to reuse this secret in all of your notebooks.\n",
            "Please note that authentication is recommended but still optional to access public models or datasets.\n",
            "  warnings.warn(\n"
          ]
        }
      ],
      "source": [
        "train_dataset = load_dataset(\"bentrevett/multi30k\", split=\"train\")\n",
        "test_dataset = load_dataset(\"bentrevett/multi30k\", split=\"test\")"
      ]
    },
    {
      "cell_type": "code",
      "execution_count": 4,
      "metadata": {
        "colab": {
          "base_uri": "https://localhost:8080/"
        },
        "id": "OXIpWRRkrceS",
        "outputId": "eb3a6d50-d703-450d-fd9d-caaaf33f7ba3"
      },
      "outputs": [
        {
          "output_type": "execute_result",
          "data": {
            "text/plain": [
              "{'en': 'Two young, White males are outside near many bushes.',\n",
              " 'de': 'Zwei junge weiße Männer sind im Freien in der Nähe vieler Büsche.'}"
            ]
          },
          "metadata": {},
          "execution_count": 4
        }
      ],
      "source": [
        "train_dataset[0]"
      ]
    },
    {
      "cell_type": "code",
      "execution_count": 5,
      "metadata": {
        "colab": {
          "base_uri": "https://localhost:8080/",
          "height": 291
        },
        "id": "2qM1kcfcrceS",
        "outputId": "bd06412e-dcd3-416e-cf5e-74daf76498b0"
      },
      "outputs": [
        {
          "output_type": "display_data",
          "data": {
            "text/plain": [
              "<Figure size 1000x300 with 2 Axes>"
            ],
            "image/png": "[encoded data removed]"
          },
          "metadata": {}
        }
      ],
      "source": [
        "import matplotlib.pyplot as plt\n",
        "\n",
        "\n",
        "def length_histogram(dataset, ax, bins=20) -> None:\n",
        "    en_lengths = []\n",
        "    de_lengths = []\n",
        "    for sample in dataset:\n",
        "        en_lengths.append(len(sample[\"en\"].split(\" \")))\n",
        "        de_lengths.append(len(sample[\"de\"].split(\" \")))\n",
        "\n",
        "    ax.hist(en_lengths, alpha=0.5, bins=bins, label=\"en\")\n",
        "    ax.hist(de_lengths, alpha=0.5, bins=bins, label=\"de\")\n",
        "    ax.legend()\n",
        "\n",
        "\n",
        "fig, axes = plt.subplots(1, 2, figsize=(10, 3))\n",
        "length_histogram(train_dataset, axes[0])\n",
        "length_histogram(test_dataset, axes[1])"
      ]
    },
    {
      "cell_type": "markdown",
      "metadata": {
        "id": "QFysitDtrceT"
      },
      "source": [
        "Оставим только сравнительно короткие предложения, чтобы можно было чему-то научиться за короткое время"
      ]
    },
    {
      "cell_type": "code",
      "execution_count": 6,
      "metadata": {
        "colab": {
          "base_uri": "https://localhost:8080/"
        },
        "id": "BUa80OoarceT",
        "outputId": "f28f2612-229c-4c30-f90c-2c10c2f80533"
      },
      "outputs": [
        {
          "output_type": "stream",
          "name": "stdout",
          "text": [
            "5144 174\n"
          ]
        }
      ],
      "source": [
        "maxlen = 8\n",
        "\n",
        "\n",
        "def filter_dataset(dataset, maxlen: int) -> list[dict[str, str]]:\n",
        "    return [\n",
        "        dataset[i]\n",
        "        for i in range(len(dataset))\n",
        "        if len(dataset[i][\"en\"].split(\" \")) <= maxlen\n",
        "    ]\n",
        "\n",
        "\n",
        "train_filtered = filter_dataset(train_dataset, maxlen)\n",
        "test_filtered = filter_dataset(test_dataset, maxlen)\n",
        "\n",
        "print(len(train_filtered), len(test_filtered))"
      ]
    },
    {
      "cell_type": "markdown",
      "metadata": {
        "id": "MmsXSf-KrceV"
      },
      "source": [
        "##### Токенизация: byte-pair encoding"
      ]
    },
    {
      "cell_type": "markdown",
      "metadata": {
        "id": "JasZnbtkrceV"
      },
      "source": [
        "Построение:\n",
        "\n",
        "Начинаем со словаря, состоящего из отдельных символов (начальные токены).\n",
        "На каждом шаге:\n",
        "1. Оцениваем частоту всех пар токенов внутри слов, находим самую частую\n",
        "2. Добавляем её в список токенов и в таблицу слияний\n",
        "3. Останавливаемся, когда достигаем максимального размера словаря\n",
        "\n",
        "\n",
        "Применение:\n",
        "\n",
        "1. Разбиваем текст на символы\n",
        "2. Находим первое возможное слияние в таблице и применяем его\n",
        "3. Останавливаемся, когда дальнейшие слияния невозможны\n",
        "\n",
        "<img src=\"https://lena-voita.github.io/resources/lectures/seq2seq/bpe/build_merge_table.gif\" style=\"background:white\" height=\"300\"/>\n",
        "<img src=\"https://lena-voita.github.io/resources/lectures/seq2seq/bpe/bpe_apply.gif\" style=\"background:white\" height=\"300\"/>\n"
      ]
    },
    {
      "cell_type": "markdown",
      "metadata": {
        "id": "hJUahYxfrceW"
      },
      "source": [
        "Реализаций много, мы будем использовать токенизатор  из библиотеки `transformers`, где помимо самого подготовленного токенизатора (`sentencepiece.SentencePieceProcessor`) много полезных методов для кодирования и декодирования.\n",
        "\n",
        "Добавим при создании новый токен, который будет указывать на начало перевода"
      ]
    },
    {
      "cell_type": "code",
      "execution_count": 7,
      "metadata": {
        "id": "45dRdY8QrceX"
      },
      "outputs": [],
      "source": [
        "tokenizer: T5Tokenizer = T5Tokenizer.from_pretrained(\n",
        "    \"t5-small\", padding_size=\"right\", bos_token=\"</b>\", legacy=False\n",
        ")"
      ]
    },
    {
      "cell_type": "code",
      "execution_count": 8,
      "metadata": {
        "colab": {
          "base_uri": "https://localhost:8080/"
        },
        "id": "Iy5kd6KKrceX",
        "outputId": "64d76e8e-0bcc-4150-8017-2fd821d90619"
      },
      "outputs": [
        {
          "output_type": "stream",
          "name": "stdout",
          "text": [
            "Размер словаря:  32101\n"
          ]
        }
      ],
      "source": [
        "print(\"Размер словаря: \", len(tokenizer))"
      ]
    },
    {
      "cell_type": "markdown",
      "metadata": {
        "id": "K9NEQuVrrceY"
      },
      "source": [
        "Посмотрим на примеры токенов, в них встречаются и целые слова из разных языков, и числительные, и знаки препинания:"
      ]
    },
    {
      "cell_type": "code",
      "execution_count": 9,
      "metadata": {
        "colab": {
          "base_uri": "https://localhost:8080/"
        },
        "id": "WwUCs0S3rceY",
        "outputId": "1a593815-4d25-4836-8518-9761c9a23940"
      },
      "outputs": [
        {
          "output_type": "execute_result",
          "data": {
            "text/plain": [
              "[('▁Jeep', 21145),\n",
              " ('н', 7184),\n",
              " ('▁Ep', 10395),\n",
              " ('▁Earth', 4030),\n",
              " ('▁complicated', 6446),\n",
              " ('strahl', 16421),\n",
              " ('omb', 8038),\n",
              " ('ateurs', 12552),\n",
              " ('croft', 30750),\n",
              " ('▁soutenu', 30362)]"
            ]
          },
          "metadata": {},
          "execution_count": 9
        }
      ],
      "source": [
        "import random\n",
        "\n",
        "random.choices(list(tokenizer.get_vocab().items()), k=10)"
      ]
    },
    {
      "cell_type": "markdown",
      "metadata": {
        "id": "O8dYPNEnrceY"
      },
      "source": [
        "Токенизатор в работе: кодирование и декодирование предложений на немецком и английском:"
      ]
    },
    {
      "cell_type": "code",
      "execution_count": 10,
      "metadata": {
        "colab": {
          "base_uri": "https://localhost:8080/"
        },
        "id": "1D_9JAyarceZ",
        "outputId": "c20cb4f8-59a1-4902-87ab-6771882a0b3a"
      },
      "outputs": [
        {
          "output_type": "stream",
          "name": "stdout",
          "text": [
            "[11280, 16815, 7838, 15, 16282, 436, 256, 8671, 35, 16, 74, 13271, 2221, 49, 21162, 3992, 5, 1]\n",
            "Zwei junge weiße Männer sind im Freien in der Nähe vieler Büsche.</s>\n",
            "[2759, 1021, 6, 1945, 5069, 7, 33, 1067, 1084, 186, 3, 30271, 5, 1]\n",
            "Two young, White males are outside near many bushes.</s>\n"
          ]
        }
      ],
      "source": [
        "encoded_german = tokenizer.encode(train_dataset[0][\"de\"])\n",
        "encoded_english = tokenizer.encode(train_dataset[0][\"en\"])\n",
        "print(encoded_german)\n",
        "print(tokenizer.decode(encoded_german))\n",
        "print(encoded_english)\n",
        "print(tokenizer.decode(encoded_english))"
      ]
    },
    {
      "cell_type": "markdown",
      "metadata": {
        "id": "rWhseqq0rceZ"
      },
      "source": [
        "Об упаковке в батчи можно больше не беспокоиться — токенизатор умеет обрабатывать сразу пачку примеров"
      ]
    },
    {
      "cell_type": "code",
      "execution_count": 11,
      "metadata": {
        "colab": {
          "base_uri": "https://localhost:8080/"
        },
        "id": "tVGEPFotrceZ",
        "outputId": "c0b5625a-b00b-4d7c-d105-2e96ac2d1f9f"
      },
      "outputs": [
        {
          "output_type": "stream",
          "name": "stdout",
          "text": [
            "torch.Size([4, 19])\n",
            "dict_keys(['input_ids', 'attention_mask'])\n"
          ]
        }
      ],
      "source": [
        "batch = [train_dataset[i][\"en\"] for i in range(4)]\n",
        "\n",
        "encoded_batch = tokenizer.batch_encode_plus(\n",
        "    batch, padding=\"longest\", return_tensors=\"pt\"\n",
        ")\n",
        "print(encoded_batch[\"input_ids\"].shape)\n",
        "print(encoded_batch.keys())"
      ]
    },
    {
      "cell_type": "markdown",
      "metadata": {
        "id": "K7IYV192rcea"
      },
      "source": [
        "Возвращается два значения: `input_ids` — это наши токены, а `attention_mask` — это тензор, равный по размеру батчу токенов, где на месте `pad_token` стоят нули, в остальных позициях — единицы. Это нам понадобится потом."
      ]
    },
    {
      "cell_type": "markdown",
      "metadata": {
        "id": "eq6ybRcfrcea"
      },
      "source": [
        "А ещё можно кодировать сразу входные и выходные данные:"
      ]
    },
    {
      "cell_type": "code",
      "execution_count": 12,
      "metadata": {
        "colab": {
          "base_uri": "https://localhost:8080/"
        },
        "id": "1A4ebMdOrceb",
        "outputId": "6b4aa012-0611-4898-e753-0a2d4754c0a9"
      },
      "outputs": [
        {
          "output_type": "stream",
          "name": "stdout",
          "text": [
            "dict_keys(['input_ids', 'attention_mask', 'labels'])\n"
          ]
        }
      ],
      "source": [
        "inputs = [train_dataset[i][\"en\"] + tokenizer.bos_token for i in range(4)]\n",
        "targets = [train_dataset[i][\"de\"] for i in range(4)]\n",
        "\n",
        "encoded_batch = tokenizer(\n",
        "    inputs, text_target=targets, padding=\"longest\", return_tensors=\"pt\"\n",
        ")\n",
        "print(encoded_batch.keys())"
      ]
    },
    {
      "cell_type": "markdown",
      "metadata": {
        "id": "D6Dh_vlhrceb"
      },
      "source": [
        "Используем это в `collate_fn` для сборки батчей:"
      ]
    },
    {
      "cell_type": "code",
      "execution_count": 13,
      "metadata": {
        "id": "Yx5mZIH_rceb"
      },
      "outputs": [],
      "source": [
        "def collate_fn(\n",
        "    tokenizer: T5Tokenizer, batch: list[tuple[str, str]]\n",
        ") -> tuple[Tensor, Tensor]:\n",
        "    prompt = tokenizer.bos_token\n",
        "    inputs, targets = zip(*[(pair[\"de\"], prompt + pair[\"en\"]) for pair in batch])\n",
        "    encoded_batch = tokenizer(\n",
        "        inputs, text_target=targets, padding=\"longest\", return_tensors=\"pt\"\n",
        "    )\n",
        "    return encoded_batch"
      ]
    },
    {
      "cell_type": "code",
      "execution_count": 14,
      "metadata": {
        "colab": {
          "base_uri": "https://localhost:8080/"
        },
        "id": "45qKqTDFrcec",
        "outputId": "45bced96-262b-41f7-e1fb-91b69636eb22"
      },
      "outputs": [
        {
          "output_type": "stream",
          "name": "stdout",
          "text": [
            "dict_keys(['input_ids', 'attention_mask', 'labels'])\n"
          ]
        }
      ],
      "source": [
        "batch = [train_dataset[i] for i in range(4)]\n",
        "encoded_batch = collate_fn(tokenizer, batch)\n",
        "print(encoded_batch.keys())"
      ]
    },
    {
      "cell_type": "code",
      "execution_count": 15,
      "metadata": {
        "colab": {
          "base_uri": "https://localhost:8080/"
        },
        "id": "2868U4V7rcec",
        "outputId": "9194febb-d046-4bd0-ce1b-1d943b8d678e"
      },
      "outputs": [
        {
          "output_type": "stream",
          "name": "stdout",
          "text": [
            "torch.Size([4, 22])\n",
            "torch.Size([4, 22])\n",
            "torch.Size([4, 20])\n"
          ]
        }
      ],
      "source": [
        "print(encoded_batch[\"input_ids\"].shape)\n",
        "print(encoded_batch[\"attention_mask\"].shape)\n",
        "print(encoded_batch[\"labels\"].shape)"
      ]
    },
    {
      "cell_type": "markdown",
      "metadata": {
        "id": "G6Hi3zL4rced"
      },
      "source": [
        "Всё готово для получения минибатчей из датасетов:"
      ]
    },
    {
      "cell_type": "code",
      "execution_count": 16,
      "metadata": {
        "id": "b3dZGZZ1rced"
      },
      "outputs": [],
      "source": [
        "train_loader = DataLoader(\n",
        "    train_filtered,\n",
        "    batch_size=32,\n",
        "    shuffle=True,\n",
        "    collate_fn=lambda batch: collate_fn(tokenizer, batch),\n",
        ")\n",
        "test_loader = DataLoader(\n",
        "    test_filtered,\n",
        "    batch_size=32,\n",
        "    shuffle=False,\n",
        "    collate_fn=lambda batch: collate_fn(tokenizer, batch),\n",
        ")"
      ]
    },
    {
      "cell_type": "markdown",
      "metadata": {
        "id": "WsjbD1Ymrcef"
      },
      "source": [
        "#### Задание 1 (3 балла). DataModule\n",
        "\n",
        "Реализуйте подкласс `lightning.LightningDataModule` для работы с обучающим и тестовым датасетами"
      ]
    },
    {
      "cell_type": "code",
      "execution_count": 17,
      "metadata": {
        "id": "R5ZqI7yCrcef"
      },
      "outputs": [],
      "source": [
        "from lightning.pytorch.utilities.types import EVAL_DATALOADERS, TRAIN_DATALOADERS\n",
        "\n",
        "\n",
        "class Multi30kDataset(L.LightningDataModule):\n",
        "    train_dataset: Dataset\n",
        "    test_dataset: Dataset\n",
        "    tokenizer: T5Tokenizer\n",
        "\n",
        "    def __init__(self, maxlen: int = 0, batch_size: int = 32) -> None:\n",
        "        self.maxlen = maxlen\n",
        "        self.batch_size = batch_size\n",
        "        self.tokenizer = tokenizer\n",
        "\n",
        "    def setup(self, stage: str = None):\n",
        "        self.train_dataset = self.filter_dataset(train_dataset, self.maxlen)\n",
        "        self.test_dataset = self.filter_dataset(test_dataset, self.maxlen)\n",
        "\n",
        "    def filter_dataset(self, dataset, maxlen: int) -> list[dict[str, str]]:\n",
        "        return [\n",
        "            dataset[i]\n",
        "            for i in range(len(dataset))\n",
        "            if len(dataset[i][\"en\"].split(\" \")) <= maxlen\n",
        "        ]\n",
        "\n",
        "    def collate_fn(\n",
        "        self, tokenizer: T5Tokenizer, batch: list[tuple[str, str]]\n",
        "    ) -> tuple[Tensor, Tensor]:\n",
        "        prompt = tokenizer.bos_token\n",
        "        inputs, targets = zip(*[(pair[\"de\"], prompt + pair[\"en\"]) for pair in batch])\n",
        "        encoded_batch = tokenizer(\n",
        "            inputs, text_target=targets, padding=\"longest\", return_tensors=\"pt\"\n",
        "        )\n",
        "        return encoded_batch\n",
        "\n",
        "    def train_dataloader(self) -> TRAIN_DATALOADERS:\n",
        "        return DataLoader(\n",
        "            self.train_dataset,\n",
        "            batch_size=self.batch_size,\n",
        "            shuffle=True,\n",
        "            collate_fn=lambda batch: self.collate_fn(self.tokenizer, batch)\n",
        "        )\n",
        "\n",
        "    def val_dataloader(self) -> EVAL_DATALOADERS:\n",
        "        return DataLoader(\n",
        "            self.test_dataset,\n",
        "            batch_size=self.batch_size,\n",
        "            shuffle=False,\n",
        "            collate_fn=lambda batch: self.collate_fn(self.tokenizer, batch)\n",
        "        )\n",
        "\n",
        "    def test_dataloader(self) -> EVAL_DATALOADERS:\n",
        "        return self.val_dataloader()"
      ]
    },
    {
      "cell_type": "code",
      "execution_count": 18,
      "metadata": {
        "id": "dC_6bBRfrcef"
      },
      "outputs": [],
      "source": [
        "multi30k = Multi30kDataset(maxlen=8, batch_size=12)"
      ]
    },
    {
      "cell_type": "markdown",
      "metadata": {
        "id": "qHqOQpRvrceg"
      },
      "source": [
        "#### Задание 2 (6 баллов). Обучение T5"
      ]
    },
    {
      "cell_type": "markdown",
      "metadata": {
        "id": "dN4AAvxkrceg"
      },
      "source": [
        "paper: https://arxiv.org/abs/1910.10683"
      ]
    },
    {
      "cell_type": "markdown",
      "metadata": {
        "id": "f2rY14tCrceh"
      },
      "source": [
        "Обучите `t5-small` на наших данных, длительность обучения — на ваше усмотрение. В [документации](https://huggingface.co/docs/transformers/model_doc/t5) вы найдёте примеры использования, которые помогут вам разобраться в интерфейсе модели."
      ]
    },
    {
      "cell_type": "code",
      "execution_count": 19,
      "metadata": {
        "id": "1_0TG9Y0rceh"
      },
      "outputs": [],
      "source": [
        "t5 = T5ForConditionalGeneration.from_pretrained(\"t5-small\")"
      ]
    },
    {
      "cell_type": "markdown",
      "metadata": {
        "id": "Ra8bD3mhrceh"
      },
      "source": [
        "Обернём в `LightningModule`"
      ]
    },
    {
      "cell_type": "code",
      "execution_count": 20,
      "metadata": {
        "id": "3HbaJcjJrcei"
      },
      "outputs": [],
      "source": [
        "import lightning as L\n",
        "from lightning.pytorch.utilities.types import STEP_OUTPUT, OptimizerLRScheduler\n",
        "\n",
        "\n",
        "class Seq2Seq(L.LightningModule):\n",
        "    def __init__(\n",
        "        self,\n",
        "        model: nn.Module,\n",
        "        tokenizer: T5Tokenizer,\n",
        "        lr: float = 0.01,\n",
        "    ) -> None:\n",
        "        super().__init__()\n",
        "        self.model = model\n",
        "        self.tokenizer = tokenizer\n",
        "        self.lr = lr\n",
        "\n",
        "    def training_step(self, batch: dict[str, Tensor], batch_idx: int) -> STEP_OUTPUT:\n",
        "        outputs = self.model(\n",
        "            input_ids=batch[\"input_ids\"],\n",
        "            attention_mask=batch[\"attention_mask\"],\n",
        "            labels=batch[\"labels\"]\n",
        "        )\n",
        "        loss = outputs.loss\n",
        "        self.log(\"train_loss\", loss, prog_bar=True)\n",
        "        return loss\n",
        "\n",
        "    def configure_optimizers(self) -> OptimizerLRScheduler:\n",
        "        optimizer = torch.optim.AdamW(self.model.parameters(), lr=self.lr)\n",
        "        return optimizer"
      ]
    },
    {
      "cell_type": "code",
      "execution_count": 21,
      "metadata": {
        "colab": {
          "base_uri": "https://localhost:8080/",
          "height": 344,
          "referenced_widgets": [
            "b052c7d7672a443384388f06c40e2016",
            "f8a55392584a469c9b7a6452b017390e",
            "94cca295ee7c4fdeb5f33709645abe6d",
            "a813b1064773477f846b0cfcd72edeac",
            "c0db03d18e744dcaadb49ac3c4b339fe",
            "c82b783a38ad4830b1f778f137935737",
            "dfc446638567418fb051d7ac22f8dab8",
            "8bbd758a4d614f84b7677d65ac2e8c1e",
            "e0d86b4625824490aad91014eb044d5a",
            "f87d4bde735e4b18b7440fcbe8148ac6",
            "d9f01160e20a4cbcbaa388763c8d29ee"
          ]
        },
        "id": "RUwORpYRrcer",
        "outputId": "286f497e-5d63-43c3-a5a2-e648c0b52b8c"
      },
      "outputs": [
        {
          "output_type": "stream",
          "name": "stderr",
          "text": [
            "INFO:lightning.pytorch.utilities.rank_zero:GPU available: True (cuda), used: True\n",
            "INFO:lightning.pytorch.utilities.rank_zero:TPU available: False, using: 0 TPU cores\n",
            "INFO:lightning.pytorch.utilities.rank_zero:HPU available: False, using: 0 HPUs\n",
            "/usr/local/lib/python3.10/dist-packages/lightning/pytorch/callbacks/model_checkpoint.py:654: Checkpoint directory /content/checkpoints exists and is not empty.\n",
            "INFO:lightning.pytorch.accelerators.cuda:LOCAL_RANK: 0 - CUDA_VISIBLE_DEVICES: [0]\n",
            "INFO:lightning.pytorch.callbacks.model_summary:\n",
            "  | Name  | Type                       | Params | Mode \n",
            "-------------------------------------------------------------\n",
            "0 | model | T5ForConditionalGeneration | 60.5 M | train\n",
            "-------------------------------------------------------------\n",
            "60.5 M    Trainable params\n",
            "0         Non-trainable params\n",
            "60.5 M    Total params\n",
            "242.026   Total estimated model params size (MB)\n",
            "277       Modules in train mode\n",
            "0         Modules in eval mode\n"
          ]
        },
        {
          "output_type": "display_data",
          "data": {
            "text/plain": [
              "Training: |          | 0/? [00:00<?, ?it/s]"
            ],
            "application/vnd.jupyter.widget-view+json": {
              "version_major": 2,
              "version_minor": 0,
              "model_id": "b052c7d7672a443384388f06c40e2016"
            }
          },
          "metadata": {}
        },
        {
          "output_type": "stream",
          "name": "stderr",
          "text": [
            "INFO:lightning.pytorch.utilities.rank_zero:`Trainer.fit` stopped: `max_epochs=20` reached.\n"
          ]
        }
      ],
      "source": [
        "multi30k.setup(stage=\"fit\")\n",
        "t5.train()\n",
        "trainer = L.Trainer(\n",
        "    accelerator=\"auto\", max_epochs=20, limit_train_batches=None, logger=False\n",
        ")\n",
        "seq2seq = Seq2Seq(t5, multi30k.tokenizer, lr=0.001)\n",
        "trainer.fit(model=seq2seq, train_dataloaders=multi30k.train_dataloader())"
      ]
    },
    {
      "cell_type": "markdown",
      "metadata": {
        "id": "v58pGXx0rcer"
      },
      "source": [
        "#### Задание 3 (3 балла). Генерация перевода\n",
        "\n",
        "Сгенерируйте перевод для одного батча из тестового датасета (используйте метод `t5.generate()`), используя разные стратегии декодирования:\n",
        "- *greedy decoding*\n",
        "- *multinomial sampling*\n",
        "- *beam-search multinomial sampling*\n",
        "\n",
        "Эти стратегии (а также другие стратегии декодирования) можно задавать через `transformers.GenerationConfig`, который можно передать в метод `.generate()` нашей модели.\n",
        "Выберите параметры, которые, на ваш взгляд, работают лучше всего."
      ]
    },
    {
      "cell_type": "code",
      "execution_count": 22,
      "metadata": {
        "id": "0aJjhWtxrcer"
      },
      "outputs": [],
      "source": [
        "from transformers import GenerationConfig\n",
        "\n",
        "# пример конфигурации\n",
        "gen_conf = GenerationConfig(\n",
        "    min_length=10,\n",
        "    max_new_tokens=20,\n",
        "    num_beams=4,\n",
        "    do_sample=True,\n",
        "    temperature=1.0,\n",
        "    top_p=0.9,\n",
        ")"
      ]
    },
    {
      "cell_type": "code",
      "execution_count": 23,
      "metadata": {
        "colab": {
          "base_uri": "https://localhost:8080/"
        },
        "id": "0ozjMOQHrces",
        "outputId": "bbc48167-330e-45ff-f4d7-a1cb842fa121"
      },
      "outputs": [
        {
          "output_type": "stream",
          "name": "stdout",
          "text": [
            "Original: Leute Reparieren das Dach eines Hauses.\n",
            "Target: People are fixing the roof of a house.\n",
            "Greedy: People are fixing the roof of a house.\n",
            "Sampling: People repair the roof of a house.\n",
            "Beam: People are fixing the roof of a house.\n",
            "\n",
            "Original: Ein Typ arbeitet an einem Gebäude.\n",
            "Target: A guy works on a building.\n",
            "Greedy: A guy working on the building.\n",
            "Sampling: A guy working on a building.\n",
            "Beam: A guy working on constructing a building.\n",
            "\n",
            "Original: Drei Leute sitzen in einer Höhle.\n",
            "Target: Three people sit in a cave.\n",
            "Greedy: Three people are sitting in a hut.\n",
            "Sampling: Three people are sitting in a hut.\n",
            "Beam: Three people are sitting in a cave.\n",
            "\n",
            "Original: Leute, die vor einem Gebäude stehen.\n",
            "Target: People standing outside of a building.\n",
            "Greedy: People standing outside a building.\n",
            "Sampling: People standing outside a building.\n",
            "Beam: People standing outside a building.\n",
            "\n",
            "Original: Ein Mann schneidet ste von Bäumen.\n",
            "Target: A man cutting branches of trees.\n",
            "Greedy: A man cutting tree branches.\n",
            "Sampling: A man is trimming leaves to trees.\n",
            "Beam: A man is cutting tree branches.\n",
            "\n",
            "Original: Frauen, die traditionelle Kleidung tragen, spielen das Leben Einheimischer nach.\n",
            "Target: Women, wearing traditional clothing, are reenacting native life.\n",
            "Greedy: Women wearing traditional clothes play home.\n",
            "Sampling: Women wearing traditional clothing play their way.\n",
            "Beam: Women in traditional clothes playing home.\n",
            "\n",
            "Original: Ein Kind planscht im Wasser.\n",
            "Target: A child is splashing in the water\n",
            "Greedy: A kid splashes in the water.\n",
            "Sampling: A kid splashes in the water.\n",
            "Beam: A kid splashes in the water.\n",
            "\n",
            "Original: Eine schöne Frau spielt auf einer Harfe.\n",
            "Target: A pretty woman plays a harpsichord.\n",
            "Greedy: A lovely woman plays a harp.\n",
            "Sampling: A beautiful woman plays a harf.\n",
            "Beam: A beautiful woman plays a harp.\n",
            "\n",
            "Original: Die junge Dame sieht auf die Pizza.\n",
            "Target: The young lady is looking at the pizza.\n",
            "Greedy: The young lady is looking at the pizza.\n",
            "Sampling: The young lady is looking at the pizza.\n",
            "Beam: The young lady is looking at the pizza.\n",
            "\n",
            "Original: Leute sitzen in einem Zug.\n",
            "Target: People sit inside a train.\n",
            "Greedy: People are sitting in a train.\n",
            "Sampling: People are sitting around a train.\n",
            "Beam: People are sitting in a train.\n",
            "\n",
            "Original: Ein kleines Kind kocht mit einer anderen Person.\n",
            "Target: A toddler is cooking with another person.\n",
            "Greedy: A small child cooking with another person.\n",
            "Sampling: A small child cooking with another person.\n",
            "Beam: A young child cooking with another person.\n",
            "\n",
            "Original: Ein Mann bereitet am Herd Essen zu.\n",
            "Target: A man cooking food on the stove.\n",
            "Greedy: A man prepares food at the stove.\n",
            "Sampling: A man is preparing food at the stove.\n",
            "Beam: A man is preparing food at the stove.\n",
            "\n"
          ]
        }
      ],
      "source": [
        "batch = next(iter(multi30k.test_dataloader()))\n",
        "preds = t5.generate(batch[\"input_ids\"], generation_config=gen_conf)\n",
        "\n",
        "# декодируем входы, правильный и сгенерированный перевод с помощью токенизатора и выводим\n",
        "def generate_translations(model, input_ids, attention_mask, generation_config):\n",
        "    outputs = model.generate(\n",
        "        input_ids=input_ids,\n",
        "        attention_mask=attention_mask,\n",
        "        generation_config=generation_config\n",
        "    )\n",
        "    translations = multi30k.tokenizer.batch_decode(outputs, skip_special_tokens=True)\n",
        "    return translations\n",
        "\n",
        "greedy_config = GenerationConfig(\n",
        "    max_length=50,\n",
        "    num_beams=1,\n",
        "    do_sample=False\n",
        ")\n",
        "greedy_translations = generate_translations(seq2seq.model, batch['input_ids'], batch['attention_mask'], greedy_config)\n",
        "\n",
        "sampling_config = GenerationConfig(\n",
        "    max_length=50,\n",
        "    do_sample=True,\n",
        "    top_k=0,\n",
        "    temperature=0.7\n",
        ")\n",
        "sampling_translations = generate_translations(seq2seq.model, batch['input_ids'], batch['attention_mask'], sampling_config)\n",
        "\n",
        "beam_sampling_config = GenerationConfig(\n",
        "    max_length=50,\n",
        "    num_beams=5,\n",
        "    do_sample=True,\n",
        "    top_k=5,\n",
        "    temperature=0.7\n",
        ")\n",
        "beam_sampling_translations = generate_translations(seq2seq.model, batch['input_ids'], batch['attention_mask'], beam_sampling_config)\n",
        "\n",
        "originals = multi30k.tokenizer.batch_decode(batch['input_ids'], skip_special_tokens=True)\n",
        "targets = multi30k.tokenizer.batch_decode(batch['labels'], skip_special_tokens=True)\n",
        "for orig, target, greedy, sampling, beam in zip(originals, targets, greedy_translations, sampling_translations, beam_sampling_translations):\n",
        "    print('Original:', orig)\n",
        "    print('Target:', target)\n",
        "    print('Greedy:', greedy)\n",
        "    print('Sampling:', sampling)\n",
        "    print('Beam:', beam)\n",
        "    print()"
      ]
    }
  ],
  "metadata": {
    "kernelspec": {
      "display_name": "Python 3",
      "name": "python3"
    },
    "language_info": {
      "codemirror_mode": {
        "name": "ipython",
        "version": 3
      },
      "file_extension": ".py",
      "mimetype": "text/x-python",
      "name": "python",
      "nbconvert_exporter": "python",
      "pygments_lexer": "ipython3",
      "version": "3.12.5"
    },
    "colab": {
      "provenance": [],
      "gpuType": "T4"
    },
    "accelerator": "GPU",
    "widgets": {
      "application/vnd.jupyter.widget-state+json": {
        "b052c7d7672a443384388f06c40e2016": {
          "model_module": "@jupyter-widgets/controls",
          "model_name": "HBoxModel",
          "model_module_version": "1.5.0",
          "state": {
            "_dom_classes": [],
            "_model_module": "@jupyter-widgets/controls",
            "_model_module_version": "1.5.0",
            "_model_name": "HBoxModel",
            "_view_count": null,
            "_view_module": "@jupyter-widgets/controls",
            "_view_module_version": "1.5.0",
            "_view_name": "HBoxView",
            "box_style": "",
            "children": [
              "IPY_MODEL_f8a55392584a469c9b7a6452b017390e",
              "IPY_MODEL_94cca295ee7c4fdeb5f33709645abe6d",
              "IPY_MODEL_a813b1064773477f846b0cfcd72edeac"
            ],
            "layout": "IPY_MODEL_c0db03d18e744dcaadb49ac3c4b339fe"
          }
        },
        "f8a55392584a469c9b7a6452b017390e": {
          "model_module": "@jupyter-widgets/controls",
          "model_name": "HTMLModel",
          "model_module_version": "1.5.0",
          "state": {
            "_dom_classes": [],
            "_model_module": "@jupyter-widgets/controls",
            "_model_module_version": "1.5.0",
            "_model_name": "HTMLModel",
            "_view_count": null,
            "_view_module": "@jupyter-widgets/controls",
            "_view_module_version": "1.5.0",
            "_view_name": "HTMLView",
            "description": "",
            "description_tooltip": null,
            "layout": "IPY_MODEL_c82b783a38ad4830b1f778f137935737",
            "placeholder": "​",
            "style": "IPY_MODEL_dfc446638567418fb051d7ac22f8dab8",
            "value": "Epoch 19: 100%"
          }
        },
        "94cca295ee7c4fdeb5f33709645abe6d": {
          "model_module": "@jupyter-widgets/controls",
          "model_name": "FloatProgressModel",
          "model_module_version": "1.5.0",
          "state": {
            "_dom_classes": [],
            "_model_module": "@jupyter-widgets/controls",
            "_model_module_version": "1.5.0",
            "_model_name": "FloatProgressModel",
            "_view_count": null,
            "_view_module": "@jupyter-widgets/controls",
            "_view_module_version": "1.5.0",
            "_view_name": "ProgressView",
            "bar_style": "success",
            "description": "",
            "description_tooltip": null,
            "layout": "IPY_MODEL_8bbd758a4d614f84b7677d65ac2e8c1e",
            "max": 429,
            "min": 0,
            "orientation": "horizontal",
            "style": "IPY_MODEL_e0d86b4625824490aad91014eb044d5a",
            "value": 429
          }
        },
        "a813b1064773477f846b0cfcd72edeac": {
          "model_module": "@jupyter-widgets/controls",
          "model_name": "HTMLModel",
          "model_module_version": "1.5.0",
          "state": {
            "_dom_classes": [],
            "_model_module": "@jupyter-widgets/controls",
            "_model_module_version": "1.5.0",
            "_model_name": "HTMLModel",
            "_view_count": null,
            "_view_module": "@jupyter-widgets/controls",
            "_view_module_version": "1.5.0",
            "_view_name": "HTMLView",
            "description": "",
            "description_tooltip": null,
            "layout": "IPY_MODEL_f87d4bde735e4b18b7440fcbe8148ac6",
            "placeholder": "​",
            "style": "IPY_MODEL_d9f01160e20a4cbcbaa388763c8d29ee",
            "value": " 429/429 [00:41&lt;00:00, 10.45it/s, train_loss=0.0673]"
          }
        },
        "c0db03d18e744dcaadb49ac3c4b339fe": {
          "model_module": "@jupyter-widgets/base",
          "model_name": "LayoutModel",
          "model_module_version": "1.2.0",
          "state": {
            "_model_module": "@jupyter-widgets/base",
            "_model_module_version": "1.2.0",
            "_model_name": "LayoutModel",
            "_view_count": null,
            "_view_module": "@jupyter-widgets/base",
            "_view_module_version": "1.2.0",
            "_view_name": "LayoutView",
            "align_content": null,
            "align_items": null,
            "align_self": null,
            "border": null,
            "bottom": null,
            "display": "inline-flex",
            "flex": null,
            "flex_flow": "row wrap",
            "grid_area": null,
            "grid_auto_columns": null,
            "grid_auto_flow": null,
            "grid_auto_rows": null,
            "grid_column": null,
            "grid_gap": null,
            "grid_row": null,
            "grid_template_areas": null,
            "grid_template_columns": null,
            "grid_template_rows": null,
            "height": null,
            "justify_content": null,
            "justify_items": null,
            "left": null,
            "margin": null,
            "max_height": null,
            "max_width": null,
            "min_height": null,
            "min_width": null,
            "object_fit": null,
            "object_position": null,
            "order": null,
            "overflow": null,
            "overflow_x": null,
            "overflow_y": null,
            "padding": null,
            "right": null,
            "top": null,
            "visibility": null,
            "width": "100%"
          }
        },
        "c82b783a38ad4830b1f778f137935737": {
          "model_module": "@jupyter-widgets/base",
          "model_name": "LayoutModel",
          "model_module_version": "1.2.0",
          "state": {
            "_model_module": "@jupyter-widgets/base",
            "_model_module_version": "1.2.0",
            "_model_name": "LayoutModel",
            "_view_count": null,
            "_view_module": "@jupyter-widgets/base",
            "_view_module_version": "1.2.0",
            "_view_name": "LayoutView",
            "align_content": null,
            "align_items": null,
            "align_self": null,
            "border": null,
            "bottom": null,
            "display": null,
            "flex": null,
            "flex_flow": null,
            "grid_area": null,
            "grid_auto_columns": null,
            "grid_auto_flow": null,
            "grid_auto_rows": null,
            "grid_column": null,
            "grid_gap": null,
            "grid_row": null,
            "grid_template_areas": null,
            "grid_template_columns": null,
            "grid_template_rows": null,
            "height": null,
            "justify_content": null,
            "justify_items": null,
            "left": null,
            "margin": null,
            "max_height": null,
            "max_width": null,
            "min_height": null,
            "min_width": null,
            "object_fit": null,
            "object_position": null,
            "order": null,
            "overflow": null,
            "overflow_x": null,
            "overflow_y": null,
            "padding": null,
            "right": null,
            "top": null,
            "visibility": null,
            "width": null
          }
        },
        "dfc446638567418fb051d7ac22f8dab8": {
          "model_module": "@jupyter-widgets/controls",
          "model_name": "DescriptionStyleModel",
          "model_module_version": "1.5.0",
          "state": {
            "_model_module": "@jupyter-widgets/controls",
            "_model_module_version": "1.5.0",
            "_model_name": "DescriptionStyleModel",
            "_view_count": null,
            "_view_module": "@jupyter-widgets/base",
            "_view_module_version": "1.2.0",
            "_view_name": "StyleView",
            "description_width": ""
          }
        },
        "8bbd758a4d614f84b7677d65ac2e8c1e": {
          "model_module": "@jupyter-widgets/base",
          "model_name": "LayoutModel",
          "model_module_version": "1.2.0",
          "state": {
            "_model_module": "@jupyter-widgets/base",
            "_model_module_version": "1.2.0",
            "_model_name": "LayoutModel",
            "_view_count": null,
            "_view_module": "@jupyter-widgets/base",
            "_view_module_version": "1.2.0",
            "_view_name": "LayoutView",
            "align_content": null,
            "align_items": null,
            "align_self": null,
            "border": null,
            "bottom": null,
            "display": null,
            "flex": "2",
            "flex_flow": null,
            "grid_area": null,
            "grid_auto_columns": null,
            "grid_auto_flow": null,
            "grid_auto_rows": null,
            "grid_column": null,
            "grid_gap": null,
            "grid_row": null,
            "grid_template_areas": null,
            "grid_template_columns": null,
            "grid_template_rows": null,
            "height": null,
            "justify_content": null,
            "justify_items": null,
            "left": null,
            "margin": null,
            "max_height": null,
            "max_width": null,
            "min_height": null,
            "min_width": null,
            "object_fit": null,
            "object_position": null,
            "order": null,
            "overflow": null,
            "overflow_x": null,
            "overflow_y": null,
            "padding": null,
            "right": null,
            "top": null,
            "visibility": null,
            "width": null
          }
        },
        "e0d86b4625824490aad91014eb044d5a": {
          "model_module": "@jupyter-widgets/controls",
          "model_name": "ProgressStyleModel",
          "model_module_version": "1.5.0",
          "state": {
            "_model_module": "@jupyter-widgets/controls",
            "_model_module_version": "1.5.0",
            "_model_name": "ProgressStyleModel",
            "_view_count": null,
            "_view_module": "@jupyter-widgets/base",
            "_view_module_version": "1.2.0",
            "_view_name": "StyleView",
            "bar_color": null,
            "description_width": ""
          }
        },
        "f87d4bde735e4b18b7440fcbe8148ac6": {
          "model_module": "@jupyter-widgets/base",
          "model_name": "LayoutModel",
          "model_module_version": "1.2.0",
          "state": {
            "_model_module": "@jupyter-widgets/base",
            "_model_module_version": "1.2.0",
            "_model_name": "LayoutModel",
            "_view_count": null,
            "_view_module": "@jupyter-widgets/base",
            "_view_module_version": "1.2.0",
            "_view_name": "LayoutView",
            "align_content": null,
            "align_items": null,
            "align_self": null,
            "border": null,
            "bottom": null,
            "display": null,
            "flex": null,
            "flex_flow": null,
            "grid_area": null,
            "grid_auto_columns": null,
            "grid_auto_flow": null,
            "grid_auto_rows": null,
            "grid_column": null,
            "grid_gap": null,
            "grid_row": null,
            "grid_template_areas": null,
            "grid_template_columns": null,
            "grid_template_rows": null,
            "height": null,
            "justify_content": null,
            "justify_items": null,
            "left": null,
            "margin": null,
            "max_height": null,
            "max_width": null,
            "min_height": null,
            "min_width": null,
            "object_fit": null,
            "object_position": null,
            "order": null,
            "overflow": null,
            "overflow_x": null,
            "overflow_y": null,
            "padding": null,
            "right": null,
            "top": null,
            "visibility": null,
            "width": null
          }
        },
        "d9f01160e20a4cbcbaa388763c8d29ee": {
          "model_module": "@jupyter-widgets/controls",
          "model_name": "DescriptionStyleModel",
          "model_module_version": "1.5.0",
          "state": {
            "_model_module": "@jupyter-widgets/controls",
            "_model_module_version": "1.5.0",
            "_model_name": "DescriptionStyleModel",
            "_view_count": null,
            "_view_module": "@jupyter-widgets/base",
            "_view_module_version": "1.2.0",
            "_view_name": "StyleView",
            "description_width": ""
          }
        }
      }
    }
  },
  "nbformat": 4,
  "nbformat_minor": 0
}